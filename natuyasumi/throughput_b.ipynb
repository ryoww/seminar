{
 "cells": [
  {
   "cell_type": "markdown",
   "metadata": {},
   "source": [
    "# 定数"
   ]
  },
  {
   "cell_type": "code",
   "execution_count": 2,
   "metadata": {},
   "outputs": [],
   "source": [
    "SIFS = 10\n",
    "BACKOFF_TIME = 360\n",
    "\n",
    "PLCP_PREAMBLE = 144\n",
    "PLCP_HEADER = 48\n",
    "ACK_FLAME = 80\n",
    "MAC_HEADER = 192\n",
    "LLC_HEADER = 64\n",
    "IP_PACKET = 12000\n",
    "\n",
    "UDP_PAYLOAD = 11776\n",
    "TCP_PAYLOAD = 23360\n",
    "\n",
    "TCP_ACK_PACKET = 320\n",
    "FCS = 32\n",
    "TAIL = 6\n",
    "\n",
    "send_rate = [1, 2, 3, 4, 5, 6, 7, 8, 9, 10, 11]\n",
    "data_bit = [4, 8, 12, 16, 20, 24, 28, 32, 36, 40]"
   ]
  },
  {
   "cell_type": "markdown",
   "metadata": {},
   "source": [
    "# データフレーム長"
   ]
  },
  {
   "cell_type": "code",
   "execution_count": null,
   "metadata": {},
   "outputs": [],
   "source": [
    "ack_long_flame = [0] * 11\n",
    "ack_syort_flame = [0] * 11\n",
    "\n",
    "len_long_flame = [0] * 11\n",
    "len_syort_flame = [0] * 11\n",
    "\n",
    "tcp_long_flame = [0] * 11\n",
    "tcp_syort_flame = [0] * 11\n",
    "\n",
    "for i in range(11):\n",
    "    acl_long_flame[i] = PLCP"
   ]
  }
 ],
 "metadata": {
  "kernelspec": {
   "display_name": "Python 3",
   "language": "python",
   "name": "python3"
  },
  "language_info": {
   "codemirror_mode": {
    "name": "ipython",
    "version": 3
   },
   "file_extension": ".py",
   "mimetype": "text/x-python",
   "name": "python",
   "nbconvert_exporter": "python",
   "pygments_lexer": "ipython3",
   "version": "3.10.11"
  },
  "orig_nbformat": 4
 },
 "nbformat": 4,
 "nbformat_minor": 2
}
